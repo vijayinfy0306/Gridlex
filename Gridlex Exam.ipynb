{
 "cells": [
  {
   "cell_type": "code",
   "execution_count": 22,
   "metadata": {},
   "outputs": [
    {
     "name": "stdout",
     "output_type": "stream",
     "text": [
      "Enter the Number: 9\n",
      "0 1\n"
     ]
    }
   ],
   "source": [
    "#............................................Question-1........................................................................\n",
    "\n",
    "list=[2,7,11,15]\n",
    "num=int(input(\"Enter the Number: \"))\n",
    "for i in range(len(list)-1):\n",
    "    for j in range(1,len(list)-1):\n",
    "        if(num==(list[i]+list[j])):\n",
    "            print(i,j)\n",
    "    break"
   ]
  },
  {
   "cell_type": "code",
   "execution_count": 25,
   "metadata": {},
   "outputs": [
    {
     "name": "stdout",
     "output_type": "stream",
     "text": [
      "5\n"
     ]
    }
   ],
   "source": [
    "#.............................................Question-2 (a)....................................................................\n",
    "\n",
    "string=\"Hello All, Welcome To Gridlex.\"\n",
    "words=string.split(' ') or string.split(',') or string.split('.')\n",
    "print(len(words))"
   ]
  },
  {
   "cell_type": "code",
   "execution_count": 45,
   "metadata": {},
   "outputs": [
    {
     "name": "stdout",
     "output_type": "stream",
     "text": [
      "Hello : 2\n",
      "All, : 1\n",
      "Welcome : 1\n",
      "To : 1\n",
      "Gridlex. : 1\n",
      "All : 1\n"
     ]
    }
   ],
   "source": [
    "#.............................................Question-2 (b)....................................................................\n",
    "\n",
    "string=\"Hello All Welcome To Gridlex Hello\"\n",
    "words=string.split(' ')\n",
    "s=dict()\n",
    "for i in words:\n",
    "    if i in s:\n",
    "        s[i] = s[i]+1\n",
    "    else:\n",
    "        s[i]=1\n",
    "for key in (s.keys()): \n",
    "    print(key, \":\", s[key]) \n"
   ]
  },
  {
   "cell_type": "code",
   "execution_count": 76,
   "metadata": {},
   "outputs": [
    {
     "name": "stdout",
     "output_type": "stream",
     "text": [
      "Madam : 2\n",
      "Mom : 1\n"
     ]
    }
   ],
   "source": [
    "#.............................................Question-2 (c)....................................................................\n",
    "\n",
    "string=\"Hello Madam ,How's your Mom ?Is your Madam fine\"\n",
    "words=string.split(' ') or string.split(',') or string.split('.')\n",
    "s1=[]\n",
    "s=dict()\n",
    "for i in words:\n",
    "    count=0\n",
    "    if (i.lower()==i.lower()[::-1]):\n",
    "        s1.append(i) \n",
    "    \n",
    "\n",
    "for i in s1:\n",
    "    if i in s:\n",
    "        s[i] = s[i]+1\n",
    "    else:\n",
    "        s[i]=1\n",
    "for key in (s.keys()): \n",
    "    print(key, \":\", s[key]) "
   ]
  },
  {
   "cell_type": "code",
   "execution_count": 94,
   "metadata": {},
   "outputs": [
    {
     "name": "stdout",
     "output_type": "stream",
     "text": [
      "Madam 2\n"
     ]
    }
   ],
   "source": [
    "#.............................................Question-2 (d)....................................................................\n",
    "\n",
    "\n",
    "string=\"Hello Madam ,How's your Mom ?Is your Madam fine\"\n",
    "words=string.split(' ') or string.split(',') or string.split('.')\n",
    "s1=[]\n",
    "s=dict()\n",
    "max=0\n",
    "a=''\n",
    "for i in words:\n",
    "    if (i.lower()==i.lower()[::-1]):\n",
    "        s1.append(i)\n",
    "        \n",
    "count=1\n",
    "for i in s1:\n",
    "    j=len(i)\n",
    "    if(j>max):\n",
    "        count +=1\n",
    "        max=j\n",
    "        a=i\n",
    "\n",
    "print(a , count)\n"
   ]
  },
  {
   "cell_type": "code",
   "execution_count": 136,
   "metadata": {},
   "outputs": [
    {
     "name": "stdout",
     "output_type": "stream",
     "text": [
      "1 4 5\n"
     ]
    }
   ],
   "source": [
    "#............................................Question-3.........................................................................\n",
    "\n",
    "def fact(n):\n",
    "    if n==0:\n",
    "        return 0\n",
    "    elif n==1:\n",
    "        return 1\n",
    "    else:\n",
    "        return n*fact(n-1)\n",
    "for i in range(1,50):\n",
    "    for j in range(1,50):\n",
    "        for k in range(1,50):\n",
    "            if(fact(i)+fact(j)+fact(k)==i*100+j*10+k):\n",
    "                print(i,j,k)\n",
    "                break\n",
    "            else:\n",
    "                pass"
   ]
  },
  {
   "cell_type": "code",
   "execution_count": 126,
   "metadata": {},
   "outputs": [
    {
     "name": "stdout",
     "output_type": "stream",
     "text": [
      "0\n"
     ]
    }
   ],
   "source": [
    "#............................................Question-4.....................................................................\n",
    "\n",
    "seq='0000012223331122000011001111'\n",
    "\n",
    "count=1\n",
    "max=0\n",
    "s=''\n",
    "for i in range(1,len(seq)):\n",
    "    if(seq[i]==seq[i-1]):\n",
    "        count +=1\n",
    "        if(count>max):\n",
    "            max=count\n",
    "            s=seq[i]\n",
    "    else:\n",
    "        count=1\n",
    "print(s)\n",
    "\n"
   ]
  }
 ],
 "metadata": {
  "kernelspec": {
   "display_name": "Python 3",
   "language": "python",
   "name": "python3"
  },
  "language_info": {
   "codemirror_mode": {
    "name": "ipython",
    "version": 3
   },
   "file_extension": ".py",
   "mimetype": "text/x-python",
   "name": "python",
   "nbconvert_exporter": "python",
   "pygments_lexer": "ipython3",
   "version": "3.7.4"
  }
 },
 "nbformat": 4,
 "nbformat_minor": 2
}
